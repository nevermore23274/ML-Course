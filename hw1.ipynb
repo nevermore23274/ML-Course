{
 "cells": [
  {
   "cell_type": "code",
   "execution_count": 1,
   "id": "282add2f-caf7-452a-88e7-46518e11ffd1",
   "metadata": {},
   "outputs": [],
   "source": [
    "# imports\n",
    "import numpy as np"
   ]
  },
  {
   "cell_type": "markdown",
   "id": "825b4df3-a7cf-42cb-87e4-bbf4a74900df",
   "metadata": {},
   "source": [
    "# Initialization"
   ]
  },
  {
   "cell_type": "markdown",
   "id": "9b895b20-75b1-4717-a160-4598765a4703",
   "metadata": {},
   "source": [
    "Useful links:\n",
    "1) https://ai.stackexchange.com/questions/37968/back-propagation-activation-function-derivative\n",
    "2) https://www.cs.swarthmore.edu/~meeden/cs81/f15/BackPropDeriv.pdf"
   ]
  },
  {
   "cell_type": "code",
   "execution_count": 2,
   "id": "198d3fc7-e5b7-4fe2-9f22-561cbd309b27",
   "metadata": {},
   "outputs": [],
   "source": [
    "#activiation function for layer1\n",
    "def tanh(x):\n",
    "    return np.tanh(x)\n",
    "#derivative of activation function for backprop\n",
    "def tanh_derivative(x):\n",
    "    return 1.0 - np.tanh(x)**2"
   ]
  },
  {
   "cell_type": "markdown",
   "id": "8c11b88b-38ef-44b2-a9c1-ffd6115d6b54",
   "metadata": {},
   "source": [
    "Useful links:\n",
    "1) https://xnought.github.io/backprop-explainer/\n",
    "2) https://medium.com/@eugenesh4work/from-inputs-to-outputs-understanding-the-inner-workings-of-a-neural-network-8a5fc25c7388\n",
    "3) https://datascience.stackexchange.com/questions/44703/how-does-gradient-descent-and-backpropagation-work-together\n",
    "\n",
    "+ input node - Each node corresponds to one feature/dimension of the input data. For example, if you're working with a dataset that has three features (temp, humidity, wind speed) then you'd set this to 3.\n",
    "+ hidden node - Helps transform input data into a useful representation for hte output layer. (weights and activation functions)\n",
    "+ output node - Each node corresponds to one dimension of the output data. For example, if you're trying to predict two different values from each input (temp and humidity the next day) then you'd set this to 2.\n",
    "+ training pair - This is set based on the dataset size. Each column of the input matrix I and output matrix Y is one training example."
   ]
  },
  {
   "cell_type": "code",
   "execution_count": 3,
   "id": "28750fd0-b083-4674-bc02-4bf052b3fc91",
   "metadata": {},
   "outputs": [],
   "source": [
    "num_input_nodes = 3\n",
    "num_hidden_nodes = 4\n",
    "num_output_nodes = 2\n",
    "num_training_pairs = 5"
   ]
  },
  {
   "cell_type": "markdown",
   "id": "1fbcce07-1d83-46e4-a4b1-e8c691c545ae",
   "metadata": {},
   "source": [
    "Useful links:\n",
    "1) https://numpy.org/doc/stable/reference/random/generated/numpy.random.uniform.html"
   ]
  },
  {
   "cell_type": "code",
   "execution_count": 4,
   "id": "cdeafab4-d8ce-4a2c-82d3-2b2a19046838",
   "metadata": {},
   "outputs": [],
   "source": [
    "# Generates line distributed between -1 and 1 for tanh later, setting shape to rows,columns\n",
    "I = np.random.uniform(-1, 1, (num_input_nodes, num_training_pairs))\n",
    "Y = np.random.uniform(-1, 1, (num_output_nodes, num_training_pairs))"
   ]
  },
  {
   "cell_type": "markdown",
   "id": "aafbe259-5176-4c9c-88cc-d4fd75eeb3b0",
   "metadata": {},
   "source": [
    "Useful links:\n",
    "1) https://datascience.stackexchange.com/questions/67440/how-to-understand-the-weights-and-biases-for-beginners\n",
    "2) https://www.kaggle.com/code/ayuraj/experiment-tracking-with-weights-and-biases"
   ]
  },
  {
   "cell_type": "code",
   "execution_count": 5,
   "id": "df92e342-beb6-499d-89a5-296ef2424333",
   "metadata": {},
   "outputs": [],
   "source": [
    "# Each row corresponds to a hidden node and each column corresponds to an input node\n",
    "W1 = np.random.uniform(-1, 1, (num_hidden_nodes, num_input_nodes))\n",
    "W2 = np.random.uniform(-1, 1, (num_output_nodes, num_hidden_nodes))\n",
    "# Each bias vector is added to the input of each output node\n",
    "b1 = np.random.uniform(-1, 1, (num_hidden_nodes, 1))\n",
    "b2 = np.random.uniform(-1, 1, (num_output_nodes, 1))"
   ]
  },
  {
   "cell_type": "markdown",
   "id": "0c9b95da-240b-4023-a839-c4f312352e25",
   "metadata": {},
   "source": [
    "Useful links:\n",
    "1) https://www.jeremyjordan.me/nn-learning-rate/\n",
    "2) https://medium.com/@theom/a-very-short-visual-introduction-to-learning-rate-schedulers-with-code-189eddffdb00"
   ]
  },
  {
   "cell_type": "code",
   "execution_count": 6,
   "id": "9548d901-64a7-48b8-919f-17ca0eccc7e6",
   "metadata": {},
   "outputs": [],
   "source": [
    "# Controls how much the weights and biases are adjusted during training while moving toward a min of the loss function\n",
    "learning_rate = 0.1"
   ]
  },
  {
   "cell_type": "markdown",
   "id": "3ed99b97-3af6-4059-8de2-6e003a8fbe29",
   "metadata": {},
   "source": [
    "# Loop for training cycles"
   ]
  },
  {
   "cell_type": "markdown",
   "id": "725249d1-3256-4a02-a811-491c62b86175",
   "metadata": {},
   "source": [
    "Useful links:\n",
    "1) https://www.geeksforgeeks.org/numpy-tanh-python/\n",
    "2) https://numpy.org/doc/stable/reference/generated/numpy.tanh.html\n",
    "3) https://numpy.org/doc/stable/reference/generated/numpy.dot.html\n",
    "4) https://www.statlect.com/matrix-algebra/linear-combinations (see a1, a2 for this)\n",
    "\n",
    "### Layer 1:\n",
    "$\n",
    "( a_i^2 = \\sum_{k=1}^{N} w_{i,k}^2 y_k^1 + b_i^2 )\n",
    "$\n",
    "\n",
    "### Layer 2:\n",
    "$\n",
    "( a_i^2 = \\sum_{k=1}^{N} w_{i,k}^2 y_k^1 + b_i^2 )\n",
    "$\n",
    "\n",
    "### Activation:\n",
    "$\n",
    "( y_i^2 = f^2(a_i^2) )\n",
    "$\n",
    "\n",
    "- $( f^2 )$ can be linear or $( tanh )$:\n",
    "\n",
    "&emsp;&emsp;&emsp;$\n",
    "( y_i^2 = tanh(a_i^2) )\n",
    "$"
   ]
  },
  {
   "cell_type": "code",
   "execution_count": 7,
   "id": "aeda811f-13d7-4988-86f1-b8cf3fe5afa0",
   "metadata": {},
   "outputs": [],
   "source": [
    "# Calculate forward pass for layer 1 and 2\n",
    "a1 = np.dot(W1, I) + b1\n",
    "y1 = tanh(a1)\n",
    "a2 = np.dot(W2, y1) + b2\n",
    "y2 = tanh(a2)\n",
    "\n",
    "# Evaluate error for pattern p and save this\n"
   ]
  },
  {
   "cell_type": "code",
   "execution_count": 8,
   "id": "787fa65c-577d-493a-b9ef-878ebc914257",
   "metadata": {},
   "outputs": [
    {
     "name": "stdout",
     "output_type": "stream",
     "text": [
      "Input Matrix (I): [[-0.28222456 -0.85424555 -0.55675678 -0.47688207 -0.10187587]\n",
      " [ 0.45198202 -0.156988   -0.23747066  0.81844079 -0.06969202]\n",
      " [ 0.65715824 -0.42563625  0.63404486  0.78238117  0.78818263]]\n",
      "\n",
      "Layer 1 Activations (a1): [[-0.62346026 -1.62468229 -0.42864078 -0.90450683 -0.03684358]\n",
      " [-0.8582281  -0.09898068 -0.49297951 -0.9930769  -0.73915073]\n",
      " [ 0.8022422  -0.45217038  0.16453386  1.2301534   0.40224061]\n",
      " [-0.52409296  0.31961053 -0.33219617 -0.81939103 -0.36239655]]\n",
      "\n",
      "Layer 1 Outputs (y1): [[-0.55353267 -0.92530055 -0.40418476 -0.71848525 -0.03682691]\n",
      " [-0.69534362 -0.0986587  -0.45657803 -0.75867127 -0.62863178]\n",
      " [ 0.66528842 -0.42368142  0.16306504  0.84262382  0.38186448]\n",
      " [-0.48085279  0.30915472 -0.32049275 -0.67473829 -0.34732323]]\n",
      "\n",
      "Layer 2 Activations (a2): [[-0.13935461 -0.63613299 -0.31228511 -0.25489426  0.08348299]\n",
      " [ 0.57799249 -0.0928181   0.5016833   0.60426905  0.72667249]]\n",
      "\n",
      "Layer 2 Outputs (y2): [[-0.13845949 -0.5622608  -0.30251452 -0.2495138   0.08328959]\n",
      " [ 0.5212048  -0.09255246  0.46343995  0.54008036  0.62102539]]\n"
     ]
    }
   ],
   "source": [
    "print(\"Input Matrix (I):\", I)\n",
    "print(\"\\nLayer 1 Activations (a1):\", a1)\n",
    "print(\"\\nLayer 1 Outputs (y1):\", y1)\n",
    "print(\"\\nLayer 2 Activations (a2):\", a2)\n",
    "print(\"\\nLayer 2 Outputs (y2):\", y2)"
   ]
  }
 ],
 "metadata": {
  "kernelspec": {
   "display_name": "Python 3 (ipykernel)",
   "language": "python",
   "name": "python3"
  },
  "language_info": {
   "codemirror_mode": {
    "name": "ipython",
    "version": 3
   },
   "file_extension": ".py",
   "mimetype": "text/x-python",
   "name": "python",
   "nbconvert_exporter": "python",
   "pygments_lexer": "ipython3",
   "version": "3.10.14"
  }
 },
 "nbformat": 4,
 "nbformat_minor": 5
}
