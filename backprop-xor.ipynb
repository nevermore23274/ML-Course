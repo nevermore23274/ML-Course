{
 "cells": [
  {
   "cell_type": "code",
   "execution_count": 1,
   "id": "282add2f-caf7-452a-88e7-46518e11ffd1",
   "metadata": {},
   "outputs": [],
   "source": [
    "# imports\n",
    "import numpy as np\n",
    "import matplotlib.pyplot as plt"
   ]
  },
  {
   "cell_type": "markdown",
   "id": "825b4df3-a7cf-42cb-87e4-bbf4a74900df",
   "metadata": {},
   "source": [
    "# Initialization"
   ]
  },
  {
   "cell_type": "markdown",
   "id": "9b895b20-75b1-4717-a160-4598765a4703",
   "metadata": {},
   "source": [
    "Useful links:\n",
    "1) https://ai.stackexchange.com/questions/37968/back-propagation-activation-function-derivative\n",
    "2) https://www.cs.swarthmore.edu/~meeden/cs81/f15/BackPropDeriv.pdf"
   ]
  },
  {
   "cell_type": "code",
   "execution_count": 2,
   "id": "198d3fc7-e5b7-4fe2-9f22-561cbd309b27",
   "metadata": {},
   "outputs": [],
   "source": [
    "#activiation function for layer1\n",
    "def tanh(x):\n",
    "    return np.tanh(x)\n",
    "#derivative of activation function for backprop\n",
    "def tanh_derivative(x):\n",
    "    return 1.0 - np.tanh(x)**2"
   ]
  },
  {
   "cell_type": "markdown",
   "id": "f9834313-e23b-42a5-a17b-d4a60b4b9130",
   "metadata": {},
   "source": [
    "Useful links:\n",
    "1) https://numpy.org/doc/stable/reference/random/generated/numpy.random.uniform.html"
   ]
  },
  {
   "cell_type": "code",
   "execution_count": 3,
   "id": "68f03d0d-6c81-4e56-81e8-626b94e97ef1",
   "metadata": {},
   "outputs": [],
   "source": [
    "# Generates line distributed between -1 and 1 for tanh later, setting shape to rows,columns\n",
    "#I = np.random.uniform(-1, 1, (num_input_nodes, num_training_pairs))\n",
    "#Y = np.random.uniform(-1, 1, (num_output_nodes, num_training_pairs))\n",
    "I = np.array([\n",
    "    [0, 0, 0],\n",
    "    [0, 0, 1],\n",
    "    [0, 1, 0],\n",
    "    [0, 1, 1],\n",
    "    [1, 0, 0],\n",
    "    [1, 0, 1],\n",
    "    [1, 1, 0],\n",
    "    [1, 1, 1]\n",
    "]).T\n",
    "\n",
    "Y = np.array([\n",
    "    [0],\n",
    "    [1],\n",
    "    [1],\n",
    "    [0],\n",
    "    [1],\n",
    "    [0],\n",
    "    [0],\n",
    "    [1]\n",
    "]).T"
   ]
  },
  {
   "cell_type": "markdown",
   "id": "8c11b88b-38ef-44b2-a9c1-ffd6115d6b54",
   "metadata": {},
   "source": [
    "Useful links:\n",
    "1) https://xnought.github.io/backprop-explainer/\n",
    "2) https://medium.com/@eugenesh4work/from-inputs-to-outputs-understanding-the-inner-workings-of-a-neural-network-8a5fc25c7388\n",
    "3) https://datascience.stackexchange.com/questions/44703/how-does-gradient-descent-and-backpropagation-work-together\n",
    "\n",
    "+ input node - Each node corresponds to one feature/dimension of the input data. For example, if you're working with a dataset that has three features (temp, humidity, wind speed) then you'd set this to 3.\n",
    "+ hidden node - Helps transform input data into a useful representation for hte output layer. (weights and activation functions)\n",
    "+ output node - Each node corresponds to one dimension of the output data. For example, if you're trying to predict two different values from each input (temp and humidity the next day) then you'd set this to 2.\n",
    "+ training pair - This is set based on the dataset size. Each column of the input matrix I and output matrix Y is one training example."
   ]
  },
  {
   "cell_type": "code",
   "execution_count": 4,
   "id": "28750fd0-b083-4674-bc02-4bf052b3fc91",
   "metadata": {},
   "outputs": [],
   "source": [
    "num_input_nodes = 3\n",
    "num_hidden_nodes = 4\n",
    "num_output_nodes = 2\n",
    "#num_training_pairs = 5\n",
    "num_training_pairs = I.shape[1]"
   ]
  },
  {
   "cell_type": "markdown",
   "id": "aafbe259-5176-4c9c-88cc-d4fd75eeb3b0",
   "metadata": {},
   "source": [
    "Useful links:\n",
    "1) https://datascience.stackexchange.com/questions/67440/how-to-understand-the-weights-and-biases-for-beginners\n",
    "2) https://www.kaggle.com/code/ayuraj/experiment-tracking-with-weights-and-biases"
   ]
  },
  {
   "cell_type": "code",
   "execution_count": 5,
   "id": "df92e342-beb6-499d-89a5-296ef2424333",
   "metadata": {},
   "outputs": [
    {
     "name": "stdout",
     "output_type": "stream",
     "text": [
      "Weights and Bias'\n",
      "W1: [[ 0.75979255 -0.75377172 -0.23566835]\n",
      " [-0.21112338 -0.16876625  0.69695499]\n",
      " [-0.93220636  0.58047386  0.65377087]\n",
      " [ 0.65985457 -0.6586545  -0.10803573]]\n",
      "W2: [[ 0.60598875 -0.57678894  0.54042911 -0.90012241]\n",
      " [ 0.62909025  0.34863512 -0.2684827   0.32048431]]\n",
      "b1: [[-0.54746663]\n",
      " [-0.73049671]\n",
      " [ 0.57277294]\n",
      " [ 0.42972456]]\n",
      "b2: [[-0.86279597]\n",
      " [ 0.61833257]]\n"
     ]
    }
   ],
   "source": [
    "# Each row corresponds to a hidden node and each column corresponds to an input node\n",
    "W1 = np.random.uniform(-1, 1, (num_hidden_nodes, num_input_nodes))\n",
    "W2 = np.random.uniform(-1, 1, (num_output_nodes, num_hidden_nodes))\n",
    "# Each bias vector is added to the input of each output node\n",
    "b1 = np.random.uniform(-1, 1, (num_hidden_nodes, 1))\n",
    "b2 = np.random.uniform(-1, 1, (num_output_nodes, 1))\n",
    "\n",
    "print(\"Weights and Bias'\")\n",
    "print(\"W1:\", W1)\n",
    "print(\"W2:\", W2)\n",
    "print(\"b1:\", b1)\n",
    "print(\"b2:\", b2)"
   ]
  },
  {
   "cell_type": "markdown",
   "id": "0c9b95da-240b-4023-a839-c4f312352e25",
   "metadata": {},
   "source": [
    "Useful links:\n",
    "1) https://www.jeremyjordan.me/nn-learning-rate/\n",
    "2) https://medium.com/@theom/a-very-short-visual-introduction-to-learning-rate-schedulers-with-code-189eddffdb00"
   ]
  },
  {
   "cell_type": "code",
   "execution_count": 6,
   "id": "9548d901-64a7-48b8-919f-17ca0eccc7e6",
   "metadata": {},
   "outputs": [],
   "source": [
    "# Controls how much the weights and biases are adjusted during training while moving toward a min of the loss function\n",
    "learning_rate = 0.1\n",
    "# How many times it runs (also called \"iterations\")\n",
    "num_epochs = 10000\n",
    "# List to store training error and nrms for each epoch\n",
    "training_errors = []\n",
    "nrms_values = []"
   ]
  },
  {
   "cell_type": "markdown",
   "id": "3ed99b97-3af6-4059-8de2-6e003a8fbe29",
   "metadata": {},
   "source": [
    "# Loop for training cycles"
   ]
  },
  {
   "cell_type": "markdown",
   "id": "725249d1-3256-4a02-a811-491c62b86175",
   "metadata": {},
   "source": [
    "Useful links:\n",
    "1) https://www.geeksforgeeks.org/numpy-tanh-python/\n",
    "2) https://numpy.org/doc/stable/reference/generated/numpy.tanh.html\n",
    "3) https://numpy.org/doc/stable/reference/generated/numpy.dot.html\n",
    "4) https://www.statlect.com/matrix-algebra/linear-combinations (see a1, a2 for this)\n",
    "5) https://www.geeksforgeeks.org/activation-functions-neural-networks/ (see y1, y2 for this)\n",
    "\n",
    "### Layer 1:\n",
    "$\n",
    "( a_i^2 = \\sum_{k=1}^{N} w_{i,k}^2 y_k^1 + b_i^2 )\n",
    "$\n",
    "\n",
    "### Layer 2:\n",
    "$\n",
    "( a_i^2 = \\sum_{k=1}^{N} w_{i,k}^2 y_k^1 + b_i^2 )\n",
    "$\n",
    "\n",
    "### Activation:\n",
    "$\n",
    "( y_i^2 = f^2(a_i^2) )\n",
    "$\n",
    "\n",
    "- $( f^2 )$ can be linear or $( tanh )$:\n",
    "\n",
    "&emsp;&emsp;&emsp;$\n",
    "( y_i^2 = tanh(a_i^2) )\n",
    "$\n",
    "\n",
    "### Error Calculation\n",
    "$( e_p = y_{d,p} - y_p^2 )$\n",
    "\n",
    "The error e_p for each pair is calculated as the difference between the desired output $Y$ and the actual output $y2$\n",
    "\n",
    "### Delta Calculation\n",
    "The Output Layer Delta $(\\delta^2)$ is calculated using the error and derivative of the $tanh$ activation function. The Hidden Layer Delta $(\\delta^1)$ is calculated using the derivative of the $tanh$ activation function and the delta from the output layer.\n",
    "For output layer:\n",
    "- Linear activation:\n",
    "&emsp;$(\\delta^2 = e_p)$\n",
    "- $tanh$ activation:\n",
    "&emsp;$(\\delta^2 = e_p \\circ (1 - (y^2)^2))$\n",
    "- Hidden layer delta ($\\delta^1)$:\n",
    "&emsp;$(\\delta^1 = (1 - (y^1)^2) \\circ (W2^T \\delta^2))$"
   ]
  },
  {
   "cell_type": "code",
   "execution_count": 7,
   "id": "aeda811f-13d7-4988-86f1-b8cf3fe5afa0",
   "metadata": {},
   "outputs": [],
   "source": [
    "for epoch in range(num_epochs):\n",
    "    # Initialize accumulator variables for the partials if it's the first training pattern\n",
    "    pEpW1 = np.zeros_like(W1)\n",
    "    pEpW2 = np.zeros_like(W2)\n",
    "    pEpB1 = np.zeros_like(b1)\n",
    "    pEpB2 = np.zeros_like(b2)\n",
    "\n",
    "    for p in range(num_training_pairs):\n",
    "        # Extract the p-th input and output pair\n",
    "        I_p = I[:, p].reshape(-1, 1)\n",
    "        Y_p = Y[:, p].reshape(-1, 1)\n",
    "\n",
    "        # Forward pass for layer 1\n",
    "        a1 = np.dot(W1, I_p) + b1\n",
    "        y1 = tanh(a1)\n",
    "\n",
    "        # Forward pass for layer 2\n",
    "        a2 = np.dot(W2, y1) + b2\n",
    "        y2 = tanh(a2)\n",
    "\n",
    "        # Calculate the error for the current pattern\n",
    "        errors = Y_p - y2\n",
    "\n",
    "        # Calculate deltas for the output layer\n",
    "        delta2 = errors * tanh_derivative(a2)\n",
    "\n",
    "        # Calculate deltas for the hidden layer\n",
    "        delta1 = tanh_derivative(a1) * np.dot(W2.T, delta2)\n",
    "\n",
    "        # Accumulate the partial derivatives\n",
    "        pEpW1 -= np.dot(delta1, I_p.T)\n",
    "        pEpB1 -= delta1\n",
    "        pEpW2 -= np.dot(delta2, y1.T)\n",
    "        pEpB2 -= delta2\n",
    "\n",
    "    # squared error for this epoch\n",
    "    total_error = np.sum(np.square(Y - tanh(np.dot(W2, tanh(np.dot(W1, I) + b1)) + b2)))\n",
    "    training_errors.append(total_error)\n",
    "\n",
    "    # Calculate NRMS for this epoch\n",
    "    sum_squared_errors = np.sum(np.square(Y - tanh(np.dot(W2, tanh(np.dot(W1, I) + b1)) + b2)))\n",
    "    sum_squared_desired_outputs = np.sum(np.square(Y))\n",
    "    nrms = np.sqrt(sum_squared_errors / sum_squared_desired_outputs)\n",
    "    nrms_values.append(nrms)\n",
    "\n",
    "    # weight updates\n",
    "    W1 -= learning_rate * pEpW1 / num_training_pairs\n",
    "    b1 -= learning_rate * pEpB1 / num_training_pairs\n",
    "    W2 -= learning_rate * pEpW2 / num_training_pairs\n",
    "    b2 -= learning_rate * pEpB2 / num_training_pairs\n",
    "\n",
    "# Calculate final predictions\n",
    "final_predictions = tanh(np.dot(W2, tanh(np.dot(W1, I) + b1)) + b2)\n",
    "\n",
    "# Calculate NRMS\n",
    "sum_squared_errors = np.sum(np.square(Y - final_predictions))\n",
    "sum_squared_desired_outputs = np.sum(np.square(Y))\n",
    "nrms = np.sqrt(sum_squared_errors / sum_squared_desired_outputs)\n",
    "\n",
    "# Calculate Max Error\n",
    "max_error = np.max(np.abs(Y - final_predictions))"
   ]
  },
  {
   "cell_type": "code",
   "execution_count": 8,
   "id": "9d1438bb-9cf9-48e0-8593-70b743f3c9c4",
   "metadata": {},
   "outputs": [
    {
     "name": "stdout",
     "output_type": "stream",
     "text": [
      "Input Matrix (I): [[0 0 0 0 1 1 1 1]\n",
      " [0 0 1 1 0 0 1 1]\n",
      " [0 1 0 1 0 1 0 1]]\n",
      "\n",
      "Layer 1 Activations (a1): [[ 0.89663524]\n",
      " [ 0.49183716]\n",
      " [ 1.37868648]\n",
      " [-0.8096634 ]]\n",
      "\n",
      "Layer 1 Outputs (y1): [[ 0.71465556]\n",
      " [ 0.45567335]\n",
      " [ 0.8806568 ]\n",
      " [-0.66940453]]\n",
      "\n",
      "Layer 2 Activations (a2): [[2.73191967]\n",
      " [2.59708433]]\n",
      "\n",
      "Layer 2 Outputs (y2): [[0.99156124]\n",
      " [0.98896358]]\n",
      "\n",
      "Errors (e_p): [[0.00843876]\n",
      " [0.01103642]]\n",
      "\n",
      "Delta for Output Layer (delta2): [[0.00014182]\n",
      " [0.00024226]]\n",
      "\n",
      "Delta for Hidden Layer (delta1): [[ 3.46935416e-04]\n",
      " [-5.61696542e-04]\n",
      " [ 6.48100736e-06]\n",
      " [-3.87478780e-04]]\n",
      "\n",
      "Accumulator Variables Initialized to Zero:\n",
      "pEpW1: [[-6.77169410e-04  8.43807614e-04 -7.65312127e-04]\n",
      " [ 3.29957694e-04  3.32975652e-04 -9.27463682e-04]\n",
      " [-1.26987453e-04  1.46739308e-04  9.98841216e-05]\n",
      " [-8.68376543e-04  6.89863076e-04  7.92830126e-04]]\n",
      "pEpW2: [[-0.00102484  0.00096219 -0.00041133  0.00100328]\n",
      " [-0.00125158  0.00122332 -0.00052545  0.00114952]]\n",
      "pEpB1: [[ 2.71207424e-04]\n",
      " [ 7.02712080e-05]\n",
      " [-2.27228942e-04]\n",
      " [-3.47472553e-04]]\n",
      "pEpB2: [[-0.0008548 ]\n",
      " [-0.00089937]]\n",
      "------------------------------------------\n",
      "Updated Weights and Biases after Training:\n",
      "W1: [[ 2.0844305  -2.25453104  1.79164359]\n",
      " [-0.31870343 -0.33960634  2.00814341]\n",
      " [-0.44832937  0.40513121  0.53712314]\n",
      " [ 2.20271006 -1.99665498 -1.68619127]]\n",
      "b1: [[-0.72490372]\n",
      " [-0.85799404]\n",
      " [ 0.88476284]\n",
      " [ 0.67046945]]\n",
      "W2: [[ 1.91459233 -1.94134021  0.63522936 -1.83433721]\n",
      " [ 1.80616025 -1.78966438 -0.25267292 -1.82421843]]\n",
      "b2: [[0.46095721]\n",
      " [1.12321313]]\n"
     ]
    }
   ],
   "source": [
    "print(\"Input Matrix (I):\", I)\n",
    "print(\"\\nLayer 1 Activations (a1):\", a1)\n",
    "print(\"\\nLayer 1 Outputs (y1):\", y1)\n",
    "print(\"\\nLayer 2 Activations (a2):\", a2)\n",
    "print(\"\\nLayer 2 Outputs (y2):\", y2)\n",
    "print(\"\\nErrors (e_p):\", errors)\n",
    "print(\"\\nDelta for Output Layer (delta2):\", delta2)\n",
    "print(\"\\nDelta for Hidden Layer (delta1):\", delta1)\n",
    "print(\"\\nAccumulator Variables Initialized to Zero:\")\n",
    "print(\"pEpW1:\", pEpW1)\n",
    "print(\"pEpW2:\", pEpW2)\n",
    "print(\"pEpB1:\", pEpB1)\n",
    "print(\"pEpB2:\", pEpB2)\n",
    "print(\"------------------------------------------\")\n",
    "print(\"Updated Weights and Biases after Training:\")\n",
    "print(\"W1:\", W1)\n",
    "print(\"b1:\", b1)\n",
    "print(\"W2:\", W2)\n",
    "print(\"b2:\", b2)"
   ]
  },
  {
   "cell_type": "markdown",
   "id": "705a6d21-7420-4dc6-ac60-d61dfdf6b5ea",
   "metadata": {},
   "source": [
    "NRMS: $(\\sqrt{\\frac{\\sum_{p} \\sum_{n} e_{n,p}^2}{\\sum_{p} \\sum_{n} (y_{d,n,p})^2}})$\n",
    "\n",
    "Max Error: $(\\text{Max Error} = \\max(|e_{n,p}|))$"
   ]
  },
  {
   "cell_type": "code",
   "execution_count": 9,
   "id": "43ee03ef-fa7b-4581-9050-10e860156157",
   "metadata": {},
   "outputs": [
    {
     "name": "stdout",
     "output_type": "stream",
     "text": [
      "NRMS: 0.027681439181364963\n",
      "Max Error: 0.025172435967670048\n"
     ]
    }
   ],
   "source": [
    "print(f\"NRMS: {nrms_values[-1]}\")\n",
    "print(f\"Max Error: {max_error}\")"
   ]
  },
  {
   "cell_type": "code",
   "execution_count": 10,
   "id": "d519f2fd-52ce-4984-85c0-0a3631c576a2",
   "metadata": {},
   "outputs": [
    {
     "data": {
      "image/png": "[encoded data removed]",
      "text/plain": [
       "<Figure size 1200x1000 with 2 Axes>"
      ]
     },
     "metadata": {},
     "output_type": "display_data"
    }
   ],
   "source": [
    "plt.figure(figsize=(12, 10))\n",
    "\n",
    "# Training error over epochs\n",
    "plt.subplot(2, 1, 1)\n",
    "plt.plot(range(num_epochs), training_errors, label='Training Error')\n",
    "plt.xlabel('Epoch')\n",
    "plt.ylabel('Sum of Squared Errors')\n",
    "plt.title('Training Error over Epochs')\n",
    "\n",
    "# Plot the NRMS over epochs\n",
    "plt.subplot(2, 1, 2)\n",
    "plt.plot(range(num_epochs), nrms_values, label='NRMS', color='r')\n",
    "plt.xlabel('Epoch')\n",
    "plt.ylabel('NRMS')\n",
    "plt.title('NRMS over Epochs')\n",
    "\n",
    "plt.tight_layout()\n",
    "plt.show()"
   ]
  },
  {
   "cell_type": "code",
   "execution_count": null,
   "id": "96b5ca5a-77ef-4013-880a-20215a7adfd1",
   "metadata": {},
   "outputs": [],
   "source": []
  }
 ],
 "metadata": {
  "kernelspec": {
   "display_name": "Python 3 (ipykernel)",
   "language": "python",
   "name": "python3"
  },
  "language_info": {
   "codemirror_mode": {
    "name": "ipython",
    "version": 3
   },
   "file_extension": ".py",
   "mimetype": "text/x-python",
   "name": "python",
   "nbconvert_exporter": "python",
   "pygments_lexer": "ipython3",
   "version": "3.10.14"
  }
 },
 "nbformat": 4,
 "nbformat_minor": 5
}
